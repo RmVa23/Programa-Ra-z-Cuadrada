{
  "cells": [
    {
      "cell_type": "markdown",
      "metadata": {
        "id": "nh__WW5eAGue"
      },
      "source": [
        "# Introducción a Probabilidad\n",
        "\n",
        "*La probabilidad de un evento es un número entre 0 y 1, donde en términos generales, el 0 indica la imposibilidad del evento, mientras que el 1 indica la certeza. Mientras más alta sea la probabilidad de un evento, es más probable que suceda. Un simple ejemplo es el lanzamiento de una moneda justa (imparcial). Ya que la moneda es \"justa\", ambos resultados (cara o cruz) son igualmente probables; la probabilidad de se salga \"cara\", es la misma de que salga \"cruz\", y ya no es posible que salga otro resultado, la probabilidad de que salga \"cara\" o \"sello\" es 1/2 (que también se escribe como 0.5 o 50%)* --- [Fuente](https://en.wikipedia.org/wiki/Probability#:~:text=Probability%20is%20the%20branch%20of,event%20and%201%20indicates%20certainty.)"
      ]
    },
    {
      "cell_type": "code",
      "execution_count": null,
      "metadata": {
        "id": "EuF3SZnUAGue"
      },
      "outputs": [],
      "source": [
        "import matplotlib.pyplot as plt\n",
        "import numpy as np\n",
        "import pandas as pd"
      ]
    },
    {
      "cell_type": "markdown",
      "metadata": {
        "id": "LlAJdHFgAGue"
      },
      "source": [
        "## Ejemplo: Lanzar Monedas\n",
        "\n",
        "Considera el ejemplo de lanzar una moneda justa para afianzar nuestro vocabulario y símbolos. Vamos a decir que la probabilidad de obtener cara es el total de formas en que este evento suceda dividido entre el número de todos los resultados posibles\n",
        "\n",
        "**EJEMPLO I**: Una moneda justa\n",
        "\n",
        "Con una moneda justa, tenemos resultados de cara o cruz. El resultado de interés es de cara o cruz. Nosotros diríamos que la probabilidad de cada uno es $\\frac{1}{2}$:\n",
        "\n",
        "$$P(\\text{cara}) = \\frac{1}{2} \\quad P(\\text{sello}) = \\frac{1}{2}$$\n",
        "\n",
        "Ten en cuenta que estas probabilidades suman 1."
      ]
    },
    {
      "cell_type": "markdown",
      "metadata": {
        "id": "n-h85_v3AGue"
      },
      "source": [
        "**EJEMPLO II**: Una moneda injusta\n",
        "\n",
        "Un ejemplo de una moneda injusta sería cualquier cosa que no tenga la misma probabilidad. Por ejemplo:\n",
        "\n",
        "$$P(\\text{cara}) = \\frac{6}{10} \\quad P(\\text{sello}) = \\frac{4}{10}$$"
      ]
    },
    {
      "cell_type": "code",
      "execution_count": null,
      "metadata": {
        "colab": {
          "base_uri": "https://localhost:8080/",
          "height": 333
        },
        "id": "qpjlVffZAGue",
        "outputId": "a0ce31d8-365d-4cb9-c67d-9aa812661ae3"
      },
      "outputs": [
        {
          "data": {
            "image/png": "[encoded data removed]",
            "text/plain": [
              "<Figure size 1440x360 with 2 Axes>"
            ]
          },
          "metadata": {
            "needs_background": "light",
            "tags": []
          },
          "output_type": "display_data"
        }
      ],
      "source": [
        "import scipy.stats as stats\n",
        "fig, ax = plt.subplots(1, 2, figsize = (20, 5))\n",
        "fair_coin = stats.bernoulli(.5).pmf([0, 1])\n",
        "ax[0].bar(['heads', 'tails'], fair_coin, color=['gray', 'white'], edgecolor = 'black')\n",
        "ax[0].set_title('Probabilities for a Fair Coin');\n",
        "\n",
        "unfair_coin = stats.bernoulli(.4).pmf([0, 1])\n",
        "ax[1].bar(['heads', 'tails'], unfair_coin, color = ['gray', 'white'], edgecolor = 'black')\n",
        "ax[1].set_title('Probabilities for an Unfair Coin');"
      ]
    },
    {
      "cell_type": "markdown",
      "metadata": {
        "id": "Bj3lEIqSAGuf",
        "vscode": {
          "languageId": "plaintext"
        }
      },
      "source": [
        "### Función de Probablidades de Masa\n",
        "\n",
        "Podemos describir este tipo de evento como una función. Específicamente, una situación en la cual hay dos posibles resultados con una probabilidad asociada a cada uno. Esto se llama una distribución de *bernoulli*, y la forma funcional es:\n",
        "\n",
        "$$f(k;p)=pk+(1-p)(1-k)\\quad {\\text{for }}k\\in \\{0,1\\}$$"
      ]
    },
    {
      "cell_type": "markdown",
      "metadata": {
        "id": "tyEv6UmsAGuf"
      },
      "source": [
        "En nuestro ejemplo de una moneda injusta, si consideramos cara como 0 y sello como 1 ($k$), tendríamos:\n",
        "\n",
        "$$f(0, .4) = .4*0 + (1 - .4)(1 - 0)$$\n",
        "\n"
      ]
    },
    {
      "cell_type": "markdown",
      "metadata": {
        "id": "THV-KaywAGuf"
      },
      "source": [
        "que es igual a 0.6.  De forma similar, la probabilidad de sello ($k = 0$):\n",
        "\n",
        "$$f(1, .4) = .4 * 1 + (1 - 1)(1 - 1)$$\n",
        "\n",
        "que es igual a 0.4."
      ]
    },
    {
      "cell_type": "code",
      "execution_count": null,
      "metadata": {
        "id": "19KM3ng6AGug"
      },
      "outputs": [],
      "source": [
        "def bernoulli(k, p):\n",
        "    return p*k + (1-p)*(1 - k)"
      ]
    },
    {
      "cell_type": "code",
      "execution_count": null,
      "metadata": {
        "colab": {
          "base_uri": "https://localhost:8080/"
        },
        "id": "qTUJ-D5yAGug",
        "outputId": "131e3fc5-2539-4e25-f381-ffc61d098f03"
      },
      "outputs": [
        {
          "data": {
            "text/plain": [
              "0.6"
            ]
          },
          "execution_count": 24,
          "metadata": {
            "tags": []
          },
          "output_type": "execute_result"
        }
      ],
      "source": [
        "bernoulli(0, 0.4)"
      ]
    },
    {
      "cell_type": "code",
      "execution_count": null,
      "metadata": {
        "colab": {
          "base_uri": "https://localhost:8080/"
        },
        "id": "MymmHDp6AGug",
        "outputId": "6bd809e7-bee1-4361-8f31-7a176e583de3"
      },
      "outputs": [
        {
          "data": {
            "text/plain": [
              "0.4"
            ]
          },
          "execution_count": 25,
          "metadata": {
            "tags": []
          },
          "output_type": "execute_result"
        }
      ],
      "source": [
        "bernoulli(1, 0.4)"
      ]
    },
    {
      "cell_type": "markdown",
      "metadata": {
        "id": "gqwMxdVTAGug"
      },
      "source": [
        "### PROBLEMAS\n",
        "\n",
        "1. Supongamos que una bolsa contiene 8 metras rojas y 3 metras azules.\n",
        " - Cual es la probabilidad de escoger una metra roja de un sorteo aleatori0?\n",
        " - Una metra azul?\n",
        "2. Supongamos que una bolsa contiene 4 metras rojas, 7 metras amarillas y 2 metras azules.\n",
        " - Cual es la probabilidad de seleccionar una metra roja *o* una metra amarilla?\n",
        " - Cual es la probabilidad de seleccionar una metra amarilla *o* una metra azul ?\n",
        " - De cuantas maneras puedes seleccionar 2 colores de metras de la bolsa?\n",
        "3. Supongamos que una bolsa contiene 10 metras rojas y 7 azules.\n",
        " - Supongamos que seleccionas una metra de la bolsa, cual es la probabilidad de que sea roja?\n",
        " - Supongamos que seleccionas una metra azul, vuelves a colocarla en la bolsa y seleccionas otra metra. Cual es la probabilidad que la segunda metra sea azul?\n",
        " - Supongamos que seleccionas una metra azul, no devuelves la metra a la bolsa y seleccionas otra metra. Cual es la probabilidad que la segunda metra sea azul?"
      ]
    },
    {
      "cell_type": "code",
      "source": [
        "# Ejercicio 1\n",
        "\n",
        "import scipy.stats as stats\n",
        "import matplotlib.pyplot as plt\n",
        "\n",
        "# 11 canicas - 8 rojas y 3 azules\n",
        "\n",
        "# p_roja = 0.73\n",
        "# p_azul = 0.27\n",
        "\n",
        "prob = stats.bernoulli(.27).pmf([0, 1])\n",
        "\n",
        "plt.bar(['rojo', 'azul'], prob, color=['red', 'blue'], edgecolor='black')\n",
        "plt.title(\"Grafico probabilidades sacar canica roja o azul\")\n",
        "plt.show()\n",
        "\n",
        "print(f\"La probabilidad de sacar una canica roja es del: {np.round(prob[0] * 100, 2)}%\")\n",
        "print(f\"La probabilidad de sacar una canica azul es del: {np.round(prob[1] * 100, 2)}%\")"
      ],
      "metadata": {
        "id": "rpV81vInWoxR",
        "outputId": "3ef21f26-ff58-4077-aaf2-d30e3965d1ee",
        "colab": {
          "base_uri": "https://localhost:8080/",
          "height": 487
        }
      },
      "execution_count": 15,
      "outputs": [
        {
          "output_type": "display_data",
          "data": {
            "text/plain": [
              "<Figure size 640x480 with 1 Axes>"
            ],
            "image/png": "[encoded data removed]"
          },
          "metadata": {}
        },
        {
          "output_type": "stream",
          "name": "stdout",
          "text": [
            "La probabilidad de sacar una canica roja es del: 73.0%\n",
            "La probabilidad de sacar una canica azul es del: 27.0%\n"
          ]
        }
      ]
    },
    {
      "cell_type": "code",
      "source": [
        "# Ejercicio 2\n",
        "\n",
        "import numpy as np\n",
        "\n",
        "# 13 canicas - 4 rojas, 7 amarillas y 2 azules\n",
        "\n",
        "# 2.1 - P. coger una canica roja o una canica amarilla\n",
        "\n",
        "p_roja = 0.31\n",
        "p_azul = 0.15\n",
        "p_amarilla = 0.54\n",
        "\n",
        "p_roja_U_amarilla = 0.46\n",
        "\n",
        "print(f\"La probabilidad de que la canica sea roja o amarilla es del: {np.round(p_roja_U_amarilla * 100, 2)}%\")\n",
        "\n",
        "# 2.2 - P. coger una canica amarilla o azul\n",
        "\n",
        "# amarilla U azul = 0.54 + 0.15 = 0.69\n",
        "\n",
        "def bernoulli(k, p):\n",
        "  return p*k + (1-p)*(1-k)\n",
        "\n",
        "p_amarilla_U_azul = bernoulli(0, 0.31) # P.de no sacar roja / (P.de sacar roja: (bernoulli(1, 0.31)))\n",
        "\n",
        "print(f\"La probabilidad de que la canica sea amarilla o azul es del: {np.round(p_amarilla_U_azul * 100, 2)}%\")\n",
        "\n",
        "# 2.3 - De cuantas maneras se pueden seleccionar 2 colores de canicas de la bolsa?\n",
        "\n",
        "# RR - RA - RAZ\n",
        "# AA - AR - AAZ\n",
        "# AZAZ - AZR - AZA\n",
        "\n",
        "# 9 POSIBILIDADES - 3 POSIBILIDADES MISMO COLOR : PROBABILIDAD = 3/9 = 0.33\n",
        "# 9 POSIBILIDADES - 6 POSIBILIDADES COLORES DISTINTOS: PROBABILIDAD = 6/9 = 0.67\n",
        "\n",
        "p_canicas_colores_distintos = bernoulli(0, 0.33)\n",
        "\n",
        "print(f\"La probabilidad de que las canicas sean de colores distintos es del: {np.round(p_canicas_colores_distintos * 100, 2)}%\")\n",
        "\n",
        "\n"
      ],
      "metadata": {
        "id": "HOwekfNqcpP3",
        "outputId": "a1475f59-13d6-4c91-e758-ad8bccd856ea",
        "colab": {
          "base_uri": "https://localhost:8080/",
          "height": 0
        }
      },
      "execution_count": 13,
      "outputs": [
        {
          "output_type": "stream",
          "name": "stdout",
          "text": [
            "La probabilidad de que la canica sea roja o amarilla es del: 46.0%\n",
            "La probabilidad de que la canica sea amarilla o azul es del: 69.0%\n",
            "La probabilidad de que las canicas sean de colores distintos es del: 67.0%\n"
          ]
        }
      ]
    },
    {
      "cell_type": "code",
      "source": [
        "# Ejercicio 3\n",
        "\n",
        "# 17 canicas - 10 rojas y 7 azules\n",
        "\n",
        "# P. de que sea roja\n",
        "\n",
        "p_roja = bernoulli(1, 0.59)\n",
        "\n",
        "print(f\"La probabilidad de sacar una canica roja es del: {np.round(p_roja * 100, 2)}%\")\n",
        "\n",
        "\n",
        "# Sacas canica azul, la vuelves a meter, y coges otra canica, p. de que la segunda sea azul?\n",
        "\n",
        "p_azul = bernoulli(0, 0.59)\n",
        "\n",
        "print(f\"La probabilidad de sacar una canica azul 7 es del: {np.round(p_azul * 100, 2)}%, ambas veces, ya que el nº y porcentaje de canicas en la bolsa no varía, son sucesos independientes\")\n",
        "\n",
        "# Sacas canica azul, no la devuelves a la bolsa y sacas otra canica, p.de que la segunda sea azul?\n",
        "\n",
        "# 16 canicas - 9 azules y 7 rojas\n",
        "\n",
        "p_azul2 = bernoulli(1, 0.56)\n",
        "\n",
        "print(f\"La probabilidad de sacar una canica azul tras retirar una canica azul de la bolsa es del: {np.round(p_azul2 * 100, 2)}%\")"
      ],
      "metadata": {
        "id": "s6yAToAKo-HL",
        "outputId": "13d1c323-3c6c-4d7e-ab79-85ecf71a2aa0",
        "colab": {
          "base_uri": "https://localhost:8080/",
          "height": 0
        }
      },
      "execution_count": 19,
      "outputs": [
        {
          "output_type": "stream",
          "name": "stdout",
          "text": [
            "La probabilidad de sacar una canica roja es del: 59.0%\n",
            "La probabilidad de sacar una canica azul 7 es del: 41.0%, ambas veces, ya que el nº y porcentaje de canicas en la bolsa no varía, son sucesos independientes\n",
            "La probabilidad de sacar una canica azul tras retirar una canica azul de la bolsa es del: 56.0%\n"
          ]
        }
      ]
    }
  ],
  "metadata": {
    "colab": {
      "provenance": []
    },
    "kernelspec": {
      "display_name": "Python 3",
      "language": "python",
      "name": "python3"
    },
    "language_info": {
      "codemirror_mode": {
        "name": "ipython",
        "version": 3
      },
      "file_extension": ".py",
      "mimetype": "text/x-python",
      "name": "python",
      "nbconvert_exporter": "python",
      "pygments_lexer": "ipython3",
      "version": "3.8.2"
    }
  },
  "nbformat": 4,
  "nbformat_minor": 0
}